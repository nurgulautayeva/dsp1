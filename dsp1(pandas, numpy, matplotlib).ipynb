{
 "cells": [
  {
   "cell_type": "markdown",
   "id": "55b99e8f",
   "metadata": {},
   "source": [
    "# There is a dataset in the file 'dataset.csv'. It is necessary to read this file and perform the following operations."
   ]
  },
  {
   "cell_type": "markdown",
   "id": "009bc492",
   "metadata": {},
   "source": [
    "1. Convert all dates to the correct format"
   ]
  },
  {
   "cell_type": "code",
   "execution_count": 16,
   "id": "c5ae749f",
   "metadata": {},
   "outputs": [
    {
     "name": "stdout",
     "output_type": "stream",
     "text": [
      "    Duration       Date  Pulse  Maxpulse  Calories\n",
      "0         60 2020-12-01    110       130     409.1\n",
      "1         60 2020-12-02    117       145     479.0\n",
      "2         60 2020-12-03    103       135     340.0\n",
      "3         45 2020-12-04    109       175     282.4\n",
      "4         45 2020-12-05    117       148     406.0\n",
      "5         60 2020-12-06    102       127     300.0\n",
      "6         60 2020-12-07    110       136     374.0\n",
      "7        450 2020-12-08    104       134     253.3\n",
      "8         30 2020-12-09    109       133     195.1\n",
      "9         60 2020-12-10     98       124     269.0\n",
      "10        60 2020-12-11    103       147     329.3\n",
      "11        60 2020-12-12    100       120     250.7\n",
      "12        60 2020-12-12    100       120     250.7\n",
      "13        60 2020-12-13    106       128     345.3\n",
      "14        60 2020-12-14    104       132     379.3\n",
      "15        60 2020-12-15     98       123     275.0\n",
      "16        60 2020-12-16     98       120     215.2\n",
      "17        60 2020-12-17    100       120     300.0\n",
      "18        45 2020-12-18     90       112       NaN\n",
      "19        60 2020-12-19    103       123     323.0\n",
      "20        45 2020-12-20     97       125     243.0\n",
      "21        60 2020-12-21    108       131     364.2\n",
      "22        45        NaT    100       119     282.0\n",
      "23        60 2020-12-23    130       101     300.0\n",
      "24        45 2020-12-24    105       132     246.0\n",
      "25        60 2020-12-25    102       126     334.5\n",
      "26        60 2020-12-26    100       120     250.0\n",
      "27        60 2020-12-27     92       118     241.0\n",
      "28        60 2020-12-28    103       132       NaN\n",
      "29        60 2020-12-29    100       132     280.0\n",
      "30        60 2020-12-30    102       129     380.3\n",
      "30        60 2020-12-30    102       129     380.3\n",
      "30        60 2020-12-30    102       129     380.3\n",
      "30        60 2020-12-30    102       129     380.3\n",
      "31        60 2020-12-31     92       115     243.0\n"
     ]
    }
   ],
   "source": [
    "\n",
    "import pandas as pd \n",
    "\n",
    "df = pd.read_csv(\"dataset.csv\")\n",
    "df['Date']  = pd.to_datetime(df['Date'],format = '%Y/%m/%d')\n",
    "print(df)\n"
   ]
  },
  {
   "cell_type": "markdown",
   "id": "98804d23",
   "metadata": {},
   "source": [
    "2. Для столбца \"Duration\", \"Pulse\", \"Maxpulse\", \"Calories\" определить пустые значения и заменить их средним значением для этого столбца. \n",
    "\n",
    "For the columns 'Duration', 'Pulse', 'Maxpulse', 'Calories', identify empty values and replace them with the mean value for that column"
   ]
  },
  {
   "cell_type": "code",
   "execution_count": 17,
   "id": "23609b3c",
   "metadata": {},
   "outputs": [
    {
     "name": "stdout",
     "output_type": "stream",
     "text": [
      "    Duration       Date  Pulse  Maxpulse    Calories\n",
      "0         60 2020-12-01    110       130  409.100000\n",
      "1         60 2020-12-02    117       145  479.000000\n",
      "2         60 2020-12-03    103       135  340.000000\n",
      "3         45 2020-12-04    109       175  282.400000\n",
      "4         45 2020-12-05    117       148  406.000000\n",
      "5         60 2020-12-06    102       127  300.000000\n",
      "6         60 2020-12-07    110       136  374.000000\n",
      "7        450 2020-12-08    104       134  253.300000\n",
      "8         30 2020-12-09    109       133  195.100000\n",
      "9         60 2020-12-10     98       124  269.000000\n",
      "10        60 2020-12-11    103       147  329.300000\n",
      "11        60 2020-12-12    100       120  250.700000\n",
      "12        60 2020-12-12    100       120  250.700000\n",
      "13        60 2020-12-13    106       128  345.300000\n",
      "14        60 2020-12-14    104       132  379.300000\n",
      "15        60 2020-12-15     98       123  275.000000\n",
      "16        60 2020-12-16     98       120  215.200000\n",
      "17        60 2020-12-17    100       120  300.000000\n",
      "18        45 2020-12-18     90       112  311.554545\n",
      "19        60 2020-12-19    103       123  323.000000\n",
      "20        45 2020-12-20     97       125  243.000000\n",
      "21        60 2020-12-21    108       131  364.200000\n",
      "22        45        NaT    100       119  282.000000\n",
      "23        60 2020-12-23    130       101  300.000000\n",
      "24        45 2020-12-24    105       132  246.000000\n",
      "25        60 2020-12-25    102       126  334.500000\n",
      "26        60 2020-12-26    100       120  250.000000\n",
      "27        60 2020-12-27     92       118  241.000000\n",
      "28        60 2020-12-28    103       132  311.554545\n",
      "29        60 2020-12-29    100       132  280.000000\n",
      "30        60 2020-12-30    102       129  380.300000\n",
      "30        60 2020-12-30    102       129  380.300000\n",
      "30        60 2020-12-30    102       129  380.300000\n",
      "30        60 2020-12-30    102       129  380.300000\n",
      "31        60 2020-12-31     92       115  243.000000\n"
     ]
    }
   ],
   "source": [
    "import pandas as pd \n",
    "\n",
    "x = df[\"Duration\"].mean()\n",
    "df[\"Duration\"].fillna(x,inplace = True)\n",
    "\n",
    "y = df[\"Pulse\"].mean()\n",
    "df[\"Pulse\"].fillna(y,inplace = True)\n",
    "\n",
    "d = df[\"Maxpulse\"].mean()\n",
    "df[\"Maxpulse\"].fillna(d,inplace = True)\n",
    "\n",
    "f = df[\"Calories\"].mean()\n",
    "df[\"Calories\"].fillna(f,inplace = True)\n",
    "\n",
    "\n",
    "print(df)\n"
   ]
  },
  {
   "cell_type": "code",
   "execution_count": 18,
   "id": "4759e34e",
   "metadata": {},
   "outputs": [
    {
     "name": "stdout",
     "output_type": "stream",
     "text": [
      "    Duration       Date  Pulse  Maxpulse    Calories\n",
      "0         60 2020-12-01    110       130  409.100000\n",
      "1         60 2020-12-02    117       145  479.000000\n",
      "2         60 2020-12-03    103       135  340.000000\n",
      "3         45 2020-12-04    109       175  282.400000\n",
      "4         45 2020-12-05    117       148  406.000000\n",
      "5         60 2020-12-06    102       127  300.000000\n",
      "6         60 2020-12-07    110       136  374.000000\n",
      "7        450 2020-12-08    104       134  253.300000\n",
      "8         30 2020-12-09    109       133  195.100000\n",
      "9         60 2020-12-10     98       124  269.000000\n",
      "10        60 2020-12-11    103       147  329.300000\n",
      "11        60 2020-12-12    100       120  250.700000\n",
      "12        60 2020-12-12    100       120  250.700000\n",
      "13        60 2020-12-13    106       128  345.300000\n",
      "14        60 2020-12-14    104       132  379.300000\n",
      "15        60 2020-12-15     98       123  275.000000\n",
      "16        60 2020-12-16     98       120  215.200000\n",
      "17        60 2020-12-17    100       120  300.000000\n",
      "18        45 2020-12-18     90       112  311.554545\n",
      "19        60 2020-12-19    103       123  323.000000\n",
      "20        45 2020-12-20     97       125  243.000000\n",
      "21        60 2020-12-21    108       131  364.200000\n",
      "22        45 2020-12-22    100       119  282.000000\n",
      "23        60 2020-12-23    130       101  300.000000\n",
      "24        45 2020-12-24    105       132  246.000000\n",
      "25        60 2020-12-25    102       126  334.500000\n",
      "26        60 2020-12-26    100       120  250.000000\n",
      "27        60 2020-12-27     92       118  241.000000\n",
      "28        60 2020-12-28    103       132  311.554545\n",
      "29        60 2020-12-29    100       132  280.000000\n",
      "30        60 2020-12-30    102       129  380.300000\n",
      "30        60 2020-12-30    102       129  380.300000\n",
      "30        60 2020-12-30    102       129  380.300000\n",
      "30        60 2020-12-30    102       129  380.300000\n",
      "31        60 2020-12-31     92       115  243.000000\n"
     ]
    }
   ],
   "source": [
    "df[\"Date\"].fillna('2020-12-22', inplace = True)\n",
    "print(df)"
   ]
  },
  {
   "cell_type": "markdown",
   "id": "0c0d8ebd",
   "metadata": {},
   "source": [
    "3. Удалить дубликаты и распечатать окончательный очищенный набор данных.\n",
    "\n",
    "Remove duplicates and print the final cleaned dataset"
   ]
  },
  {
   "cell_type": "code",
   "execution_count": 19,
   "id": "fe34c7b3",
   "metadata": {},
   "outputs": [
    {
     "name": "stdout",
     "output_type": "stream",
     "text": [
      "    Duration       Date  Pulse  Maxpulse    Calories\n",
      "0         60 2020-12-01    110       130  409.100000\n",
      "1         60 2020-12-02    117       145  479.000000\n",
      "2         60 2020-12-03    103       135  340.000000\n",
      "3         45 2020-12-04    109       175  282.400000\n",
      "4         45 2020-12-05    117       148  406.000000\n",
      "5         60 2020-12-06    102       127  300.000000\n",
      "6         60 2020-12-07    110       136  374.000000\n",
      "7        450 2020-12-08    104       134  253.300000\n",
      "8         30 2020-12-09    109       133  195.100000\n",
      "9         60 2020-12-10     98       124  269.000000\n",
      "10        60 2020-12-11    103       147  329.300000\n",
      "11        60 2020-12-12    100       120  250.700000\n",
      "13        60 2020-12-13    106       128  345.300000\n",
      "14        60 2020-12-14    104       132  379.300000\n",
      "15        60 2020-12-15     98       123  275.000000\n",
      "16        60 2020-12-16     98       120  215.200000\n",
      "17        60 2020-12-17    100       120  300.000000\n",
      "18        45 2020-12-18     90       112  311.554545\n",
      "19        60 2020-12-19    103       123  323.000000\n",
      "20        45 2020-12-20     97       125  243.000000\n",
      "21        60 2020-12-21    108       131  364.200000\n",
      "22        45 2020-12-22    100       119  282.000000\n",
      "23        60 2020-12-23    130       101  300.000000\n",
      "24        45 2020-12-24    105       132  246.000000\n",
      "25        60 2020-12-25    102       126  334.500000\n",
      "26        60 2020-12-26    100       120  250.000000\n",
      "27        60 2020-12-27     92       118  241.000000\n",
      "28        60 2020-12-28    103       132  311.554545\n",
      "29        60 2020-12-29    100       132  280.000000\n",
      "30        60 2020-12-30    102       129  380.300000\n",
      "31        60 2020-12-31     92       115  243.000000\n"
     ]
    }
   ],
   "source": [
    "newdf = df.drop_duplicates()\n",
    "print(newdf)"
   ]
  },
  {
   "cell_type": "markdown",
   "id": "01f994cc",
   "metadata": {},
   "source": [
    "4. Получить значения из столбца «Calories» и сохранить их как массив numpy.\n",
    "\n",
    "Retrieve values from the 'Calories' column and save them as a numpy array"
   ]
  },
  {
   "cell_type": "code",
   "execution_count": 20,
   "id": "bbced6db",
   "metadata": {},
   "outputs": [
    {
     "name": "stdout",
     "output_type": "stream",
     "text": [
      "[409.1        479.         340.         282.4        406.\n",
      " 300.         374.         253.3        195.1        269.\n",
      " 329.3        250.7        250.7        345.3        379.3\n",
      " 275.         215.2        300.         311.55454545 323.\n",
      " 243.         364.2        282.         300.         246.\n",
      " 334.5        250.         241.         311.55454545 280.\n",
      " 380.3        380.3        380.3        380.3        243.        ]\n"
     ]
    }
   ],
   "source": [
    "import numpy as np\n",
    "\n",
    "calories = np.array(df['Calories'])\n",
    "\n",
    "print(calories)"
   ]
  },
  {
   "cell_type": "markdown",
   "id": "57995fbd",
   "metadata": {},
   "source": [
    "5. Использовать этот массив numpy и удалить все числа ниже 400 с помощью фильтра. \n",
    "\n",
    "Use this NumPy array and remove all numbers below 400 using a filter"
   ]
  },
  {
   "cell_type": "code",
   "execution_count": 23,
   "id": "523b3988",
   "metadata": {},
   "outputs": [
    {
     "name": "stdout",
     "output_type": "stream",
     "text": [
      "[409.1 479.  406. ]\n"
     ]
    }
   ],
   "source": [
    "calNew = np.delete(calories,np.where(calories<400))\n",
    "print(calNew)"
   ]
  },
  {
   "cell_type": "markdown",
   "id": "054f788b",
   "metadata": {},
   "source": [
    "6. Для этих чисел вернуть и распечатать их \"Pulse\" значения.\n",
    "\n",
    "For these numbers, return and print their 'Pulse' values"
   ]
  },
  {
   "cell_type": "code",
   "execution_count": 24,
   "id": "fbbed26f",
   "metadata": {},
   "outputs": [
    {
     "name": "stdout",
     "output_type": "stream",
     "text": [
      "(array([0, 1, 4]),)\n"
     ]
    },
    {
     "data": {
      "text/plain": [
       "0    110\n",
       "1    117\n",
       "4    117\n",
       "Name: Pulse, dtype: int64"
      ]
     },
     "metadata": {},
     "output_type": "display_data"
    },
    {
     "data": {
      "text/html": [
       "<div>\n",
       "<style scoped>\n",
       "    .dataframe tbody tr th:only-of-type {\n",
       "        vertical-align: middle;\n",
       "    }\n",
       "\n",
       "    .dataframe tbody tr th {\n",
       "        vertical-align: top;\n",
       "    }\n",
       "\n",
       "    .dataframe thead th {\n",
       "        text-align: right;\n",
       "    }\n",
       "</style>\n",
       "<table border=\"1\" class=\"dataframe\">\n",
       "  <thead>\n",
       "    <tr style=\"text-align: right;\">\n",
       "      <th></th>\n",
       "      <th>Duration</th>\n",
       "      <th>Date</th>\n",
       "      <th>Pulse</th>\n",
       "      <th>Maxpulse</th>\n",
       "      <th>Calories</th>\n",
       "    </tr>\n",
       "  </thead>\n",
       "  <tbody>\n",
       "    <tr>\n",
       "      <th>0</th>\n",
       "      <td>60</td>\n",
       "      <td>2020-12-01</td>\n",
       "      <td>110</td>\n",
       "      <td>130</td>\n",
       "      <td>409.1</td>\n",
       "    </tr>\n",
       "    <tr>\n",
       "      <th>1</th>\n",
       "      <td>60</td>\n",
       "      <td>2020-12-02</td>\n",
       "      <td>117</td>\n",
       "      <td>145</td>\n",
       "      <td>479.0</td>\n",
       "    </tr>\n",
       "    <tr>\n",
       "      <th>4</th>\n",
       "      <td>45</td>\n",
       "      <td>2020-12-05</td>\n",
       "      <td>117</td>\n",
       "      <td>148</td>\n",
       "      <td>406.0</td>\n",
       "    </tr>\n",
       "  </tbody>\n",
       "</table>\n",
       "</div>"
      ],
      "text/plain": [
       "   Duration       Date  Pulse  Maxpulse  Calories\n",
       "0        60 2020-12-01    110       130     409.1\n",
       "1        60 2020-12-02    117       145     479.0\n",
       "4        45 2020-12-05    117       148     406.0"
      ]
     },
     "metadata": {},
     "output_type": "display_data"
    }
   ],
   "source": [
    "filtered= np.where((newdf['Calories']==409.1) | (newdf['Calories']==479) | (newdf['Calories']==406) )\n",
    "print(filtered)\n",
    "display(newdf[\"Pulse\"].loc[filtered])\n",
    "display(newdf.iloc[filtered])"
   ]
  },
  {
   "cell_type": "code",
   "execution_count": 25,
   "id": "8e7a86cb",
   "metadata": {},
   "outputs": [
    {
     "name": "stdout",
     "output_type": "stream",
     "text": [
      "[110 117 117]\n"
     ]
    }
   ],
   "source": [
    "filtered_Pulse = np.array(newdf[\"Pulse\"].loc[filtered])\n",
    "print(filtered_Pulse)"
   ]
  },
  {
   "cell_type": "markdown",
   "id": "808649a8",
   "metadata": {},
   "source": [
    "8. Нарисуйте график линии, проходящей через точки, полученные в задаче 5 и 6. Значения оси X можно получить из задачи 5. Значения оси Y можно получить из задачи 6.\n",
    "\n",
    "Draw a line plot through the points obtained in tasks 5 and 6. The values for the X-axis can be obtained from task 5. The values for the Y-axis can be obtained from task 6."
   ]
  },
  {
   "cell_type": "code",
   "execution_count": 26,
   "id": "05d5d5d5",
   "metadata": {},
   "outputs": [
    {
     "data": {
      "image/png": "[encoded data removed]",
      "text/plain": [
       "<Figure size 640x480 with 1 Axes>"
      ]
     },
     "metadata": {},
     "output_type": "display_data"
    }
   ],
   "source": [
    "import matplotlib.pyplot as plt\n",
    "\n",
    "x= calNew\n",
    "y = filtered_Pulse\n",
    "\n",
    "plt.plot(x,y, marker = 'o', ls = ':', color = 'red')\n",
    "plt.grid(linestyle = '--')\n",
    "\n",
    "plt.show()"
   ]
  },
  {
   "cell_type": "code",
   "execution_count": null,
   "id": "6950e790",
   "metadata": {},
   "outputs": [],
   "source": []
  }
 ],
 "metadata": {
  "kernelspec": {
   "display_name": "Python 3 (ipykernel)",
   "language": "python",
   "name": "python3"
  },
  "language_info": {
   "codemirror_mode": {
    "name": "ipython",
    "version": 3
   },
   "file_extension": ".py",
   "mimetype": "text/x-python",
   "name": "python",
   "nbconvert_exporter": "python",
   "pygments_lexer": "ipython3",
   "version": "3.11.3"
  }
 },
 "nbformat": 4,
 "nbformat_minor": 5
}
